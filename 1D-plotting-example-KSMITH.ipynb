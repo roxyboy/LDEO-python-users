{
 "cells": [
  {
   "cell_type": "code",
   "execution_count": 1,
   "metadata": {
    "collapsed": false
   },
   "outputs": [],
   "source": [
    "import numpy as np\n",
    "from matplotlib import pyplot as plt\n",
    "import matplotlib as mpl\n",
    "%matplotlib inline\n",
    "from scipy.io import loadmat as loadmat #this is the scipy module that loads .mat files"
   ]
  },
  {
   "cell_type": "code",
   "execution_count": 2,
   "metadata": {
    "collapsed": false
   },
   "outputs": [],
   "source": [
    "mpl.rc('font',size=12,weight='bold') #set default font size and weight for plots"
   ]
  },
  {
   "cell_type": "code",
   "execution_count": 3,
   "metadata": {
    "collapsed": false
   },
   "outputs": [
    {
     "ename": "FileNotFoundError",
     "evalue": "[Errno 2] No such file or directory: 'area_average_trends_19572005.mat'",
     "output_type": "error",
     "traceback": [
      "\u001b[0;31m---------------------------------------------------------------------------\u001b[0m",
      "\u001b[0;31mFileNotFoundError\u001b[0m                         Traceback (most recent call last)",
      "\u001b[0;32m<ipython-input-3-aad4f8544372>\u001b[0m in \u001b[0;36m<module>\u001b[0;34m()\u001b[0m\n\u001b[0;32m----> 1\u001b[0;31m \u001b[0mCMIPmat\u001b[0m \u001b[0;34m=\u001b[0m \u001b[0mloadmat\u001b[0m\u001b[0;34m(\u001b[0m\u001b[0;34m'area_average_trends_19572005.mat'\u001b[0m\u001b[0;34m)\u001b[0m  \u001b[0;31m# load .mat file for CMIP5 model Antarctic surface air temperature time series and trends\u001b[0m\u001b[0;34m\u001b[0m\u001b[0m\n\u001b[0m",
      "\u001b[0;32m/Users/UchidaTakaya/anaconda/envs/py34/lib/python3.4/site-packages/scipy/io/matlab/mio.py\u001b[0m in \u001b[0;36mloadmat\u001b[0;34m(file_name, mdict, appendmat, **kwargs)\u001b[0m\n\u001b[1;32m    132\u001b[0m     \"\"\"\n\u001b[1;32m    133\u001b[0m     \u001b[0mvariable_names\u001b[0m \u001b[0;34m=\u001b[0m \u001b[0mkwargs\u001b[0m\u001b[0;34m.\u001b[0m\u001b[0mpop\u001b[0m\u001b[0;34m(\u001b[0m\u001b[0;34m'variable_names'\u001b[0m\u001b[0;34m,\u001b[0m \u001b[0;32mNone\u001b[0m\u001b[0;34m)\u001b[0m\u001b[0;34m\u001b[0m\u001b[0m\n\u001b[0;32m--> 134\u001b[0;31m     \u001b[0mMR\u001b[0m \u001b[0;34m=\u001b[0m \u001b[0mmat_reader_factory\u001b[0m\u001b[0;34m(\u001b[0m\u001b[0mfile_name\u001b[0m\u001b[0;34m,\u001b[0m \u001b[0mappendmat\u001b[0m\u001b[0;34m,\u001b[0m \u001b[0;34m**\u001b[0m\u001b[0mkwargs\u001b[0m\u001b[0;34m)\u001b[0m\u001b[0;34m\u001b[0m\u001b[0m\n\u001b[0m\u001b[1;32m    135\u001b[0m     \u001b[0mmatfile_dict\u001b[0m \u001b[0;34m=\u001b[0m \u001b[0mMR\u001b[0m\u001b[0;34m.\u001b[0m\u001b[0mget_variables\u001b[0m\u001b[0;34m(\u001b[0m\u001b[0mvariable_names\u001b[0m\u001b[0;34m)\u001b[0m\u001b[0;34m\u001b[0m\u001b[0m\n\u001b[1;32m    136\u001b[0m     \u001b[0;32mif\u001b[0m \u001b[0mmdict\u001b[0m \u001b[0;32mis\u001b[0m \u001b[0;32mnot\u001b[0m \u001b[0;32mNone\u001b[0m\u001b[0;34m:\u001b[0m\u001b[0;34m\u001b[0m\u001b[0m\n",
      "\u001b[0;32m/Users/UchidaTakaya/anaconda/envs/py34/lib/python3.4/site-packages/scipy/io/matlab/mio.py\u001b[0m in \u001b[0;36mmat_reader_factory\u001b[0;34m(file_name, appendmat, **kwargs)\u001b[0m\n\u001b[1;32m     55\u001b[0m        \u001b[0mtype\u001b[0m \u001b[0mdetected\u001b[0m \u001b[0;32min\u001b[0m\u001b[0;31m \u001b[0m\u001b[0;31m`\u001b[0m\u001b[0mfilename\u001b[0m\u001b[0;31m`\u001b[0m\u001b[0;34m.\u001b[0m\u001b[0;34m\u001b[0m\u001b[0m\n\u001b[1;32m     56\u001b[0m     \"\"\"\n\u001b[0;32m---> 57\u001b[0;31m     \u001b[0mbyte_stream\u001b[0m \u001b[0;34m=\u001b[0m \u001b[0m_open_file\u001b[0m\u001b[0;34m(\u001b[0m\u001b[0mfile_name\u001b[0m\u001b[0;34m,\u001b[0m \u001b[0mappendmat\u001b[0m\u001b[0;34m)\u001b[0m\u001b[0;34m\u001b[0m\u001b[0m\n\u001b[0m\u001b[1;32m     58\u001b[0m     \u001b[0mmjv\u001b[0m\u001b[0;34m,\u001b[0m \u001b[0mmnv\u001b[0m \u001b[0;34m=\u001b[0m \u001b[0mget_matfile_version\u001b[0m\u001b[0;34m(\u001b[0m\u001b[0mbyte_stream\u001b[0m\u001b[0;34m)\u001b[0m\u001b[0;34m\u001b[0m\u001b[0m\n\u001b[1;32m     59\u001b[0m     \u001b[0;32mif\u001b[0m \u001b[0mmjv\u001b[0m \u001b[0;34m==\u001b[0m \u001b[0;36m0\u001b[0m\u001b[0;34m:\u001b[0m\u001b[0;34m\u001b[0m\u001b[0m\n",
      "\u001b[0;32m/Users/UchidaTakaya/anaconda/envs/py34/lib/python3.4/site-packages/scipy/io/matlab/mio.py\u001b[0m in \u001b[0;36m_open_file\u001b[0;34m(file_like, appendmat)\u001b[0m\n\u001b[1;32m     21\u001b[0m     \u001b[0;32mif\u001b[0m \u001b[0misinstance\u001b[0m\u001b[0;34m(\u001b[0m\u001b[0mfile_like\u001b[0m\u001b[0;34m,\u001b[0m \u001b[0mstring_types\u001b[0m\u001b[0;34m)\u001b[0m\u001b[0;34m:\u001b[0m\u001b[0;34m\u001b[0m\u001b[0m\n\u001b[1;32m     22\u001b[0m         \u001b[0;32mtry\u001b[0m\u001b[0;34m:\u001b[0m\u001b[0;34m\u001b[0m\u001b[0m\n\u001b[0;32m---> 23\u001b[0;31m             \u001b[0;32mreturn\u001b[0m \u001b[0mopen\u001b[0m\u001b[0;34m(\u001b[0m\u001b[0mfile_like\u001b[0m\u001b[0;34m,\u001b[0m \u001b[0;34m'rb'\u001b[0m\u001b[0;34m)\u001b[0m\u001b[0;34m\u001b[0m\u001b[0m\n\u001b[0m\u001b[1;32m     24\u001b[0m         \u001b[0;32mexcept\u001b[0m \u001b[0mIOError\u001b[0m \u001b[0;32mas\u001b[0m \u001b[0me\u001b[0m\u001b[0;34m:\u001b[0m\u001b[0;34m\u001b[0m\u001b[0m\n\u001b[1;32m     25\u001b[0m             \u001b[0;32mif\u001b[0m \u001b[0mappendmat\u001b[0m \u001b[0;32mand\u001b[0m \u001b[0;32mnot\u001b[0m \u001b[0mfile_like\u001b[0m\u001b[0;34m.\u001b[0m\u001b[0mendswith\u001b[0m\u001b[0;34m(\u001b[0m\u001b[0;34m'.mat'\u001b[0m\u001b[0;34m)\u001b[0m\u001b[0;34m:\u001b[0m\u001b[0;34m\u001b[0m\u001b[0m\n",
      "\u001b[0;31mFileNotFoundError\u001b[0m: [Errno 2] No such file or directory: 'area_average_trends_19572005.mat'"
     ]
    }
   ],
   "source": [
    "CMIPmat = loadmat('area_average_trends_19572005.mat')  # load .mat file for CMIP5 model Antarctic surface air temperature time series and trends"
   ]
  },
  {
   "cell_type": "code",
   "execution_count": 8,
   "metadata": {
    "collapsed": true
   },
   "outputs": [],
   "source": [
    "AA_avg_all = CMIPmat['AA_avg_all'] #Area-average Antarctic (AA) surface air temperature for 40 CMIP5 from 1957-2005"
   ]
  },
  {
   "cell_type": "code",
   "execution_count": 9,
   "metadata": {
    "collapsed": false
   },
   "outputs": [
    {
     "data": {
      "text/plain": [
       "dtype('<f8')"
      ]
     },
     "execution_count": 9,
     "metadata": {},
     "output_type": "execute_result"
    }
   ],
   "source": [
    "AA_avg_all.dtype"
   ]
  },
  {
   "cell_type": "code",
   "execution_count": 10,
   "metadata": {
    "collapsed": false
   },
   "outputs": [
    {
     "data": {
      "text/plain": [
       "(40, 49)"
      ]
     },
     "execution_count": 10,
     "metadata": {},
     "output_type": "execute_result"
    }
   ],
   "source": [
    "AA_avg_all.shape #40 CMIP5 models x 49 years (1957-2005) "
   ]
  },
  {
   "cell_type": "code",
   "execution_count": 11,
   "metadata": {
    "collapsed": false
   },
   "outputs": [
    {
     "data": {
      "text/plain": [
       "array([[ 244.33431817,  244.07134916,  244.46510697, ...,  243.77483375,\n",
       "         245.00686083,  244.52615183],\n",
       "       [ 243.18314806,  242.74833561,  243.96775206, ...,  243.86073636,\n",
       "         243.89626713,  243.43070348],\n",
       "       [ 237.97451499,  237.03086765,  237.20415361, ...,  237.81353024,\n",
       "         238.78635798,  238.39412982],\n",
       "       ..., \n",
       "       [ 245.08394012,  245.68797715,  246.82771724, ...,  245.96992463,\n",
       "         246.1119029 ,  246.43898527],\n",
       "       [ 239.46379616,  240.05438813,  240.86210841, ...,  241.27807241,\n",
       "         240.93540255,  240.2181941 ],\n",
       "       [ 240.84977552,  241.28208411,  241.74169855, ...,  241.65104609,\n",
       "         241.40601168,  241.5335413 ]])"
      ]
     },
     "execution_count": 11,
     "metadata": {},
     "output_type": "execute_result"
    }
   ],
   "source": [
    "AA_avg_all"
   ]
  },
  {
   "cell_type": "code",
   "execution_count": 12,
   "metadata": {
    "collapsed": true
   },
   "outputs": [],
   "source": [
    "AA_avg_all_E = CMIPmat['AA_avg_all_E'] #East AA "
   ]
  },
  {
   "cell_type": "code",
   "execution_count": 13,
   "metadata": {
    "collapsed": true
   },
   "outputs": [],
   "source": [
    "AA_avg_all_W = CMIPmat['AA_avg_all_W'] #West AA"
   ]
  },
  {
   "cell_type": "code",
   "execution_count": 14,
   "metadata": {
    "collapsed": true
   },
   "outputs": [],
   "source": [
    "AA_avg_mmm = AA_avg_all.mean(axis=0) #average over 40 CMIP5 models (mmm = multi-model mean) \n",
    "E_AA_avg_mmm = AA_avg_all_E.mean(axis=0)\n",
    "W_AA_avg_mmm = AA_avg_all_W.mean(axis=0)"
   ]
  },
  {
   "cell_type": "code",
   "execution_count": 15,
   "metadata": {
    "collapsed": true
   },
   "outputs": [],
   "source": [
    "AA_avg_std = AA_avg_all.std(axis=0) #standard deviation across 40 CMIP5 models\n",
    "E_AA_avg_std = AA_avg_all_E.std(axis=0)\n",
    "W_AA_avg_std = AA_avg_all_W.std(axis=0)"
   ]
  },
  {
   "cell_type": "code",
   "execution_count": 16,
   "metadata": {
    "collapsed": false
   },
   "outputs": [],
   "source": [
    "AA_avg_min = np.amin(AA_avg_all,axis=0) #minimum of 40 CMIP5 models\n",
    "E_AA_avg_min = np.amin(AA_avg_all_E,axis=0)\n",
    "W_AA_avg_min = np.amin(AA_avg_all_W,axis=0)\n",
    "AA_avg_max = np.amax(AA_avg_all,axis=0) #maximum of 40 CMIP5 models\n",
    "E_AA_avg_max = np.amax(AA_avg_all_E,axis=0)\n",
    "W_AA_avg_max = np.amax(AA_avg_all_W,axis=0)"
   ]
  },
  {
   "cell_type": "code",
   "execution_count": 17,
   "metadata": {
    "collapsed": false
   },
   "outputs": [
    {
     "data": {
      "text/plain": [
       "(49,)"
      ]
     },
     "execution_count": 17,
     "metadata": {},
     "output_type": "execute_result"
    }
   ],
   "source": [
    "AA_avg_min.shape"
   ]
  },
  {
   "cell_type": "code",
   "execution_count": 18,
   "metadata": {
    "collapsed": true
   },
   "outputs": [],
   "source": [
    "M10mat = loadmat('M10_ANN_19602005_AA_trends.mat')  # load .mat file for Monaghan et al. (2010) Antarctic surface air temperature time series reconstruction and trends"
   ]
  },
  {
   "cell_type": "code",
   "execution_count": 19,
   "metadata": {
    "collapsed": true
   },
   "outputs": [],
   "source": [
    "AA_avg_M10 = M10mat['AA_avg'] #area-averaged AA SAT \n",
    "E_AA_avg_M10 = M10mat['E_AA_avg'] #area-averaged East AA SAT \n",
    "W_AA_avg_M10 = M10mat['W_AA_avg'] #area-averaged West AA SAT "
   ]
  },
  {
   "cell_type": "code",
   "execution_count": 20,
   "metadata": {
    "collapsed": false
   },
   "outputs": [],
   "source": [
    "ERAImat = loadmat('ERAI_19792005_AA_trends.mat')  # load .mat file for ERA-Interim Antarctic surface air temperature time series"
   ]
  },
  {
   "cell_type": "code",
   "execution_count": 21,
   "metadata": {
    "collapsed": true
   },
   "outputs": [],
   "source": [
    "AA_avg_ERAI = np.mean(ERAImat['AA_avg']) #area-averaged and climatological average (average over year 1979-2005) of ERAI AA SAT \n",
    "E_AA_avg_ERAI = np.mean(ERAImat['E_AA_avg']) #area-averaged and climatological average (average over year 1979-2005) of ERAI East AA SAT \n",
    "W_AA_avg_ERAI = np.mean(ERAImat['W_AA_avg']) #area-averaged and climatological average (average over year 1979-2005) of ERAI West AA SAT "
   ]
  },
  {
   "cell_type": "code",
   "execution_count": 22,
   "metadata": {
    "collapsed": false
   },
   "outputs": [],
   "source": [
    "year = np.arange(1,len(AA_avg_mmm)+1,1) #create a variable called year with values 1-49, i.e. the same length as the number of year in the CMIP5 time series"
   ]
  },
  {
   "cell_type": "code",
   "execution_count": 23,
   "metadata": {
    "collapsed": false
   },
   "outputs": [
    {
     "data": {
      "text/plain": [
       "array([ 1,  2,  3,  4,  5,  6,  7,  8,  9, 10, 11, 12, 13, 14, 15, 16, 17,\n",
       "       18, 19, 20, 21, 22, 23, 24, 25, 26, 27, 28, 29, 30, 31, 32, 33, 34,\n",
       "       35, 36, 37, 38, 39, 40, 41, 42, 43, 44, 45, 46, 47, 48, 49])"
      ]
     },
     "execution_count": 23,
     "metadata": {},
     "output_type": "execute_result"
    }
   ],
   "source": [
    "year"
   ]
  },
  {
   "cell_type": "code",
   "execution_count": 24,
   "metadata": {
    "collapsed": false
   },
   "outputs": [],
   "source": [
    "year2 = year[3:49] #create a shorter subset of variable 'year' for the M10 time series\n",
    "year3 = year[22:49] #create an even shorter subset of variable 'year' for the ERAI time series"
   ]
  },
  {
   "cell_type": "code",
   "execution_count": 25,
   "metadata": {
    "collapsed": false
   },
   "outputs": [],
   "source": [
    "AA_avg_ERAI_clim = np.full((27,1),AA_avg_ERAI) #create arrays with dimension (27,1) but with the same value in each cell\n",
    "E_AA_avg_ERAI_clim = np.full((27,1),E_AA_avg_ERAI)\n",
    "W_AA_avg_ERAI_clim = np.full((27,1),W_AA_avg_ERAI)"
   ]
  },
  {
   "cell_type": "code",
   "execution_count": 26,
   "metadata": {
    "collapsed": false
   },
   "outputs": [
    {
     "data": {
      "image/png": "[encoded data removed]",
      "text/plain": [
       "<matplotlib.figure.Figure at 0x106cb44e0>"
      ]
     },
     "metadata": {},
     "output_type": "display_data"
    }
   ],
   "source": [
    "#big plot example\n",
    "fig = plt.figure(figsize=(12,24)) #define figure size\n",
    "ax1 = plt.subplot2grid((6,12),(0,0),colspan=4) #define location of subplots\n",
    "ax2 = plt.subplot2grid((6,12),(0,4),colspan=4)\n",
    "ax3 = plt.subplot2grid((6,12),(0,8),colspan=4)\n",
    "\n",
    "#subplot 1\n",
    "ax1.fill_between(year,AA_avg_min,AA_avg_max,facecolor = 'lightgray',edgecolor = 'lightgray') #fill_between shades the area between two curves, here min and max\n",
    "ax1.fill_between(year,AA_avg_mmm - AA_avg_std,AA_avg_mmm + AA_avg_std,facecolor = 'gray',edgecolor = 'gray') #same as above but for the mmm +/- 1 sigma\n",
    "ax1.plot(year, AA_avg_mmm, 'k',linewidth=2) #simple line plot in black\n",
    "ax1.plot(year2, AA_avg_M10.T, 'b',linewidth=2) #simple line plot in blue (note x value is differnt than above)\n",
    "ax1.plot(year3, AA_avg_ERAI_clim,'r',linewidth=2) #simple line plot in red (note x values is again differnt than above)\n",
    "ax1.axis([3,49,220,265]) #set x- and y-axis limits; only want to plot from 1960 onwards\n",
    "x = np.arange(3,50,10) #create a vector to define tick spacing for x-axis\n",
    "ax1.set_xticks(x) #add ticks to x-axis\n",
    "ax1.set_xticklabels([i+1957 for i in x]) #tick labels\n",
    "ax1.set_ylabel('SAT (K)',fontsize=12,fontweight='bold') #ylabel\n",
    "ax1.set_xlabel('Year',fontsize=12,fontweight='bold') #xlabel\n",
    "ax1.set_title('(a) Total Antartic',fontsize=12,fontweight='bold') #title\n",
    "\n",
    "#subplot 2\n",
    "ax2.plot([],[],color = 'lightgray',linewidth=10,label = 'CMIP5 Range') #create an empty plot to use for figure legend (this is necessary because fill_between shading cannot be included in a legend)\n",
    "ax2.plot([],[],color = 'gray',linewidth=10,label = 'CMIP5 1$\\sigma$') #create an empty plot to use for figure legend\n",
    "ax2.fill_between(year,E_AA_avg_min,E_AA_avg_max,facecolor = 'lightgray',edgecolor = 'lightgray')\n",
    "ax2.fill_between(year,E_AA_avg_mmm - E_AA_avg_std,E_AA_avg_mmm + E_AA_avg_std,facecolor = 'gray',edgecolor = 'gray')\n",
    "ax2.plot(year, E_AA_avg_mmm, 'k',label = 'CMIP5 MMM',linewidth=2) #labels are communicated to the legend function\n",
    "ax2.plot(year2, E_AA_avg_M10.T, 'b',label = 'M10',linewidth=2)\n",
    "ax2.plot(year3, E_AA_avg_ERAI_clim,'r',label = 'ERAI',linewidth=2)\n",
    "ax2.axis([4,49,220,265])\n",
    "ax2.set_xticks(x)\n",
    "ax2.set_xticklabels([i+1957 for i in x])\n",
    "ax2.set_ylabel('SAT (K)',fontsize=12,fontweight='bold')\n",
    "ax2.set_xlabel('Year',fontsize=12,fontweight='bold')\n",
    "ax2.set_title('(b) East Antartic',fontsize=12,fontweight='bold')\n",
    "ax2.legend(loc='upper center') #adds legend to subplot\n",
    "\n",
    "#subplot 3\n",
    "ax3.fill_between(year,W_AA_avg_min,W_AA_avg_max,facecolor = 'lightgray',edgecolor = 'lightgray')\n",
    "ax3.fill_between(year,W_AA_avg_mmm - W_AA_avg_std,W_AA_avg_mmm + W_AA_avg_std,facecolor = 'gray',edgecolor = 'gray')\n",
    "ax3.plot(year, W_AA_avg_mmm, 'k',linewidth=2)\n",
    "ax3.plot(year2, W_AA_avg_M10.T, 'b',linewidth=2)\n",
    "ax3.plot(year3, W_AA_avg_ERAI_clim,'r',linewidth=2)\n",
    "ax3.axis([4,49,220,265])\n",
    "ax3.set_xticks(x)\n",
    "ax3.set_xticklabels([i+1957 for i in x])\n",
    "ax3.set_ylabel('SAT (K)',fontsize=12,fontweight='bold')\n",
    "ax3.set_xlabel('Year',fontsize=12,fontweight='bold')\n",
    "ax3.set_title('(c) West Antartic',fontsize=12,fontweight='bold')\n",
    "\n",
    "plt.tight_layout()"
   ]
  },
  {
   "cell_type": "code",
   "execution_count": null,
   "metadata": {
    "collapsed": false
   },
   "outputs": [],
   "source": []
  },
  {
   "cell_type": "code",
   "execution_count": null,
   "metadata": {
    "collapsed": true
   },
   "outputs": [],
   "source": []
  }
 ],
 "metadata": {
  "kernelspec": {
   "display_name": "Python 3",
   "language": "python",
   "name": "python3"
  },
  "language_info": {
   "codemirror_mode": {
    "name": "ipython",
    "version": 3
   },
   "file_extension": ".py",
   "mimetype": "text/x-python",
   "name": "python",
   "nbconvert_exporter": "python",
   "pygments_lexer": "ipython3",
   "version": "3.4.3"
  }
 },
 "nbformat": 4,
 "nbformat_minor": 0
}
